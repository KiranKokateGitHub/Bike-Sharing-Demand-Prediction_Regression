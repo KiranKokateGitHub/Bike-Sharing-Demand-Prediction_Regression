{
  "nbformat": 4,
  "nbformat_minor": 0,
  "metadata": {
    "colab": {
      "private_outputs": true,
      "provenance": [],
      "include_colab_link": true
    },
    "kernelspec": {
      "name": "python3",
      "display_name": "Python 3"
    },
    "language_info": {
      "name": "python"
    }
  },
  "cells": [
    {
      "cell_type": "markdown",
      "metadata": {
        "id": "view-in-github",
        "colab_type": "text"
      },
      "source": [
        "<a href=\"https://colab.research.google.com/github/kirankokateGitHub/Regression2/blob/main/Kiran_Regression.ipynb\" target=\"_parent\"><img src=\"https://colab.research.google.com/assets/colab-badge.svg\" alt=\"Open In Colab\"/></a>"
      ]
    },
    {
      "cell_type": "markdown",
      "source": [
        "# **Project Name**    -  Seoul Bike Sharing Demand Prediction\n",
        "\n"
      ],
      "metadata": {
        "id": "vncDsAP0Gaoa"
      }
    },
    {
      "cell_type": "markdown",
      "source": [
        "##### **Project Type**    - Regression\n",
        "##### **Contribution**    - Individual\n",
        "##### **Team Member 1 -** Kiran"
      ],
      "metadata": {
        "id": "beRrZCGUAJYm"
      }
    },
    {
      "cell_type": "markdown",
      "source": [
        "# **Project Summary -**\n",
        "\n"
      ],
      "metadata": {
        "id": "FJNUwmbgGyua"
      }
    },
    {
      "cell_type": "code",
      "source": [],
      "metadata": {
        "id": "oNpGVrQKeYyy"
      },
      "execution_count": null,
      "outputs": []
    },
    {
      "cell_type": "markdown",
      "source": [
        "# **GitHub Link -**"
      ],
      "metadata": {
        "id": "w6K7xa23Elo4"
      }
    },
    {
      "cell_type": "markdown",
      "source": [
        "https://github.com/kirankokateGitHub/Regression2"
      ],
      "metadata": {
        "id": "h1o69JH3Eqqn"
      }
    },
    {
      "cell_type": "markdown",
      "source": [
        "# **Problem Statement**\n"
      ],
      "metadata": {
        "id": "yQaldy8SH6Dl"
      }
    },
    {
      "cell_type": "markdown",
      "source": [
        "**Write Problem Statement Here.**\n",
        "\n",
        "Currently Rental bikes are introduced in many urban cities for the enhancement of mobility comfort. It is important to make the rental bike available and accessible to the public at the right time as it lessens the waiting time. Eventually, providing the city with a stable supply of rental bikes becomes a major concern. The crucial part is the prediction of bike count required at each hour for the stable supply of rental bikes."
      ],
      "metadata": {
        "id": "DpeJGUA3kjGy"
      }
    },
    {
      "cell_type": "markdown",
      "source": [
        "# **General Guidelines** : -  "
      ],
      "metadata": {
        "id": "mDgbUHAGgjLW"
      }
    },
    {
      "cell_type": "markdown",
      "source": [
        "1.   Well-structured, formatted, and commented code is required.\n",
        "2.   Exception Handling, Production Grade Code & Deployment Ready Code will be a plus. Those students will be awarded some additional credits.\n",
        "     \n",
        "     The additional credits will have advantages over other students during Star Student selection.\n",
        "       \n",
        "             [ Note: - Deployment Ready Code is defined as, the whole .ipynb notebook should be executable in one go\n",
        "                       without a single error logged. ]\n",
        "\n",
        "3.   Each and every logic should have proper comments.\n",
        "4. You may add as many number of charts you want. Make Sure for each and every chart the following format should be answered.\n",
        "        \n",
        "\n",
        "```\n",
        "# Chart visualization code\n",
        "```\n",
        "            \n",
        "\n",
        "*   Why did you pick the specific chart?\n",
        "*   What is/are the insight(s) found from the chart?\n",
        "* Will the gained insights help creating a positive business impact?\n",
        "Are there any insights that lead to negative growth? Justify with specific reason.\n",
        "\n",
        "5. You have to create at least 15 logical & meaningful charts having important insights.\n",
        "\n",
        "\n",
        "[ Hints : - Do the Vizualization in  a structured way while following \"UBM\" Rule.\n",
        "\n",
        "U - Univariate Analysis,\n",
        "\n",
        "B - Bivariate Analysis (Numerical - Categorical, Numerical - Numerical, Categorical - Categorical)\n",
        "\n",
        "M - Multivariate Analysis\n",
        " ]\n",
        "\n",
        "\n",
        "\n",
        "\n",
        "\n",
        "6. You may add more ml algorithms for model creation. Make sure for each and every algorithm, the following format should be answered.\n",
        "\n",
        "\n",
        "*   Explain the ML Model used and it's performance using Evaluation metric Score Chart.\n",
        "\n",
        "\n",
        "*   Cross- Validation & Hyperparameter Tuning\n",
        "\n",
        "*   Have you seen any improvement? Note down the improvement with updates Evaluation metric Score Chart.\n",
        "\n",
        "*   Explain each evaluation metric's indication towards business and the business impact pf the ML model used.\n",
        "\n",
        "\n",
        "\n",
        "\n",
        "\n",
        "\n",
        "\n",
        "\n",
        "\n",
        "\n",
        "\n",
        "\n",
        "\n",
        "\n",
        "\n",
        "\n",
        "\n",
        "\n"
      ],
      "metadata": {
        "id": "ZrxVaUj-hHfC"
      }
    },
    {
      "cell_type": "markdown",
      "source": [
        "# ***Let's Begin !***"
      ],
      "metadata": {
        "id": "O_i_v8NEhb9l"
      }
    },
    {
      "cell_type": "markdown",
      "source": [
        "## ***1. Know Your Data***"
      ],
      "metadata": {
        "id": "HhfV-JJviCcP"
      }
    },
    {
      "cell_type": "code",
      "source": [
        "# lets import required libraries"
      ],
      "metadata": {
        "id": "if1p8Givjs0B"
      },
      "execution_count": null,
      "outputs": []
    },
    {
      "cell_type": "markdown",
      "source": [
        "### Import Libraries"
      ],
      "metadata": {
        "id": "Y3lxredqlCYt"
      }
    },
    {
      "cell_type": "code",
      "source": [
        "import pandas as pd\n",
        "import numpy as np\n",
        "import matplotlib.pyplot as plt\n",
        "%matplotlib inline\n",
        "import seaborn as sns\n",
        "# import datetime from datetime\n",
        "from datetime import datetime\n",
        "import datetime as dt\n",
        "# import some preprocessing functions and modules from scikit library\n",
        "from sklearn.preprocessing import MinMaxScaler\n",
        "from sklearn.preprocessing import OneHotEncoder\n",
        "from sklearn.preprocessing import MultiLabelBinarizer\n",
        "# lets import some regression ML models/algoriths from scikit library\n",
        "from sklearn.linear_model import LinearRegression\n",
        "from sklearn.linear_model import Lasso\n",
        "from sklearn.linear_model import Ridge\n",
        "from sklearn.linear_model import ElasticNet\n",
        "from sklearn.tree import DecisionTreeRegressor\n",
        "from sklearn.ensemble import RandomForestRegressor\n",
        "from sklearn.ensemble import GradientBoostingRegressor\n",
        "# import some modules to check accuracy of the model\n",
        "from sklearn.model_selection import cross_validate\n",
        "from sklearn.model_selection import train_test_split\n",
        "from sklearn.model_selection import GridSearchCV\n",
        "from sklearn.model_selection import cross_val_score\n",
        "from sklearn.model_selection import RepeatedStratifiedKFold\n",
        "from sklearn.model_selection import RandomizedSearchCV\n",
        "# import some modules to check accuracy of the model\n",
        "from sklearn import metrics\n",
        "from sklearn.metrics import r2_score\n",
        "from sklearn.metrics import mean_squared_error\n",
        "from sklearn.metrics import accuracy_score\n",
        "from sklearn.metrics import mean_absolute_error\n",
        "from sklearn.metrics import log_loss\n",
        "# import warnings\n",
        "import warnings\n",
        "warnings.filterwarnings('ignore')\n"
      ],
      "metadata": {
        "id": "EVZ0F0Puj5CO"
      },
      "execution_count": null,
      "outputs": []
    },
    {
      "cell_type": "markdown",
      "source": [
        "### Dataset Loading"
      ],
      "metadata": {
        "id": "3RnN4peoiCZX"
      }
    },
    {
      "cell_type": "code",
      "source": [
        "# Load Dataset\n",
        "from google.colab import drive\n",
        "drive.mount('/content/drive')"
      ],
      "metadata": {
        "id": "4CkvbW_SlZ_R"
      },
      "execution_count": null,
      "outputs": []
    },
    {
      "cell_type": "code",
      "source": [
        "path=\"/content/drive/MyDrive/SeoulBikeData.csv\"\n",
        "bkdf= pd.read_csv(path, encoding= 'latin') # bike dataframed is named as bkdf for easy typing"
      ],
      "metadata": {
        "id": "aPBi1M1kVRON"
      },
      "execution_count": null,
      "outputs": []
    },
    {
      "cell_type": "markdown",
      "source": [
        "## *** Know Your Data***"
      ],
      "metadata": {
        "id": "U_FrKjOlq5TI"
      }
    },
    {
      "cell_type": "code",
      "source": [
        "# let's see top 5 rows of the dataframe\n",
        "bkdf.head()"
      ],
      "metadata": {
        "id": "Rr4XOHoZdL-0"
      },
      "execution_count": null,
      "outputs": []
    },
    {
      "cell_type": "code",
      "source": [
        "# let's see bottom 5 rows of dataframe\n",
        "bkdf.tail()"
      ],
      "metadata": {
        "id": "zhM1dXb9gHEI"
      },
      "execution_count": null,
      "outputs": []
    },
    {
      "cell_type": "code",
      "source": [
        "#let's look at the some random sample from the data\n",
        "bkdf.sample(5)"
      ],
      "metadata": {
        "id": "e9Gg-snzgW04"
      },
      "execution_count": null,
      "outputs": []
    },
    {
      "cell_type": "code",
      "source": [
        "# now let's get know about the dataframe shape i.e rows and colomns\n",
        "print(bkdf.shape)"
      ],
      "metadata": {
        "id": "jOrW43qNgkfq"
      },
      "execution_count": null,
      "outputs": []
    },
    {
      "cell_type": "code",
      "source": [
        "# so, we have 8760 rows and 14 colomns in our dataframe"
      ],
      "metadata": {
        "id": "yz8LbHPigwVI"
      },
      "execution_count": null,
      "outputs": []
    },
    {
      "cell_type": "code",
      "source": [
        "bkdf.info()"
      ],
      "metadata": {
        "id": "tcGN-MBlhn3A"
      },
      "execution_count": null,
      "outputs": []
    },
    {
      "cell_type": "code",
      "source": [
        "# so, we have four colomns which have object values and others have number values. data set has no null values."
      ],
      "metadata": {
        "id": "8tk7thAThvJn"
      },
      "execution_count": null,
      "outputs": []
    },
    {
      "cell_type": "code",
      "source": [
        "bkdf.nunique()"
      ],
      "metadata": {
        "id": "ULJcVslCiIJA"
      },
      "execution_count": null,
      "outputs": []
    },
    {
      "cell_type": "code",
      "source": [
        "# here we can see how unique values are pressent in colomns of dataframe."
      ],
      "metadata": {
        "id": "wKE-py6OmECg"
      },
      "execution_count": null,
      "outputs": []
    },
    {
      "cell_type": "code",
      "source": [
        "# let's get know about the details of the dataframe\n",
        "bkdf.describe(include='all').T"
      ],
      "metadata": {
        "id": "DF_fICl3mQmI"
      },
      "execution_count": null,
      "outputs": []
    },
    {
      "cell_type": "code",
      "source": [
        "# let's know about the colomns/variable/features of the dataframe\n",
        "print(bkdf.columns)"
      ],
      "metadata": {
        "id": "faGxl-yQmYoj"
      },
      "execution_count": null,
      "outputs": []
    },
    {
      "cell_type": "code",
      "source": [
        "# let's give brief description about the features"
      ],
      "metadata": {
        "id": "nI9gJ5Wrrrej"
      },
      "execution_count": null,
      "outputs": []
    },
    {
      "cell_type": "markdown",
      "metadata": {
        "id": "9kIJJWuiRZE8"
      },
      "source": [
        "**Breakdown of Our variables/Features/columns:**\n",
        "**Date** : *The date of the day, in a 365 days from 01/12/2017 to 30/11/2018,  let's formate in DD/MM/YYYY, data type : str*, we need to convert it into datetime format.\n",
        "\n",
        "**Rented Bike Count** : *Number of bikes rented per hour which is our dependent variable and we need to predict it, data type : int*\n",
        "\n",
        "**Hour**: *The hour of the day, starting from 0-23 it's in a digital time format, data type : int, we need to convert it into category data type.*\n",
        "\n",
        "**Temperature(°C)**: *Temperature in degree Celsius, data type : Float*\n",
        "\n",
        "**Humidity(%)**: * air Humidity in %, data type : int*\n",
        "\n",
        "**Wind speed (m/s)** : *Speed of the blowing wind in m/s,\n",
        "data type : Float*\n",
        "\n",
        "**Visibility (10m)**: *Visibility in m, data type : int*\n",
        "\n",
        "**Dew point temperature(°C)**: *Temperature at the beggining of the day, data type : Float*\n",
        "\n",
        "**Solar Radiation (MJ/m2)**: *solar radition, data type : Float*\n",
        "\n",
        "**Rainfall(mm)**: *depth of rainfall in mm, data type : Float*\n",
        "\n",
        "**Snowfall (cm)**: *depth of snowfall in cm, data type : Float*\n",
        "\n",
        "**Seasons**: *Season of the year, data type : str, there are only 4 season's in data *.\n",
        "\n",
        "**Holiday**: *If the day  is holiday period or not, data type: str*\n",
        "\n",
        "**Functioning Day**: *If the day is a Functioning Day or not, data type : str*\n",
        "\n",
        "\n",
        "\n",
        "\n"
      ]
    },
    {
      "cell_type": "code",
      "source": [
        "# As we know there are mno missing values but, let's cross check ones.\n",
        "bkdf.isnull().sum()"
      ],
      "metadata": {
        "id": "pO8vCnbGyNRY"
      },
      "execution_count": null,
      "outputs": []
    },
    {
      "cell_type": "code",
      "source": [
        "# yeah, it is clear that there are no null or missing values in the dataframe."
      ],
      "metadata": {
        "id": "T_v89gz4z4pa"
      },
      "execution_count": null,
      "outputs": []
    },
    {
      "cell_type": "code",
      "source": [
        "# let's check for duplicate values.\n",
        "bkdf.duplicated()"
      ],
      "metadata": {
        "id": "MxYvFRkA05xA"
      },
      "execution_count": null,
      "outputs": []
    },
    {
      "cell_type": "code",
      "source": [
        "dupicate_values= len(bkdf[bkdf.duplicated()])"
      ],
      "metadata": {
        "id": "ZbNtId1b3xs4"
      },
      "execution_count": null,
      "outputs": []
    },
    {
      "cell_type": "code",
      "source": [
        "print(dupicate_values)"
      ],
      "metadata": {
        "id": "MDyU3azU37AL"
      },
      "execution_count": null,
      "outputs": []
    },
    {
      "cell_type": "code",
      "source": [
        "# so, there are no duplicate vales in dataframe."
      ],
      "metadata": {
        "id": "mIgRiTSM4BF7"
      },
      "execution_count": null,
      "outputs": []
    }
  ]
}